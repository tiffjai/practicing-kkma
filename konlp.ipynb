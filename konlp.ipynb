{
 "cells": [
  {
   "cell_type": "code",
   "execution_count": 13,
   "metadata": {
    "collapsed": true
   },
   "outputs": [
    {
     "name": "stdout",
     "output_type": "stream",
     "text": [
      "[('일', 'NNG'),\n",
      " ('이', 'JKS'),\n",
      " ('끝나', 'VV'),\n",
      " ('고', 'ECE'),\n",
      " ('퇴근', 'NNG'),\n",
      " ('하', 'XSV'),\n",
      " ('거든', 'ECD'),\n",
      " ('우리', 'NP'),\n",
      " ('집', 'NNG'),\n",
      " ('에', 'JKM'),\n",
      " ('잠간', 'MAG'),\n",
      " ('들려주', 'VV'),\n",
      " ('세요', 'EFN'),\n",
      " ('.', 'SF')]\n"
     ]
    }
   ],
   "source": [
    "from konlpy.tag import Kkma\n",
    "from konlpy.utils import pprint\n",
    "kkma = Kkma()\n",
    "pprint(kkma.pos(u'일이 끝나고 퇴근하거든 우리 집에 잠간 들려주세요.'))"
   ]
  },
  {
   "cell_type": "code",
   "execution_count": null,
   "outputs": [],
   "source": [],
   "metadata": {
    "collapsed": false,
    "pycharm": {
     "name": "#%%\n"
    }
   }
  }
 ],
 "metadata": {
  "kernelspec": {
   "display_name": "Python 3",
   "language": "python",
   "name": "python3"
  },
  "language_info": {
   "codemirror_mode": {
    "name": "ipython",
    "version": 2
   },
   "file_extension": ".py",
   "mimetype": "text/x-python",
   "name": "python",
   "nbconvert_exporter": "python",
   "pygments_lexer": "ipython2",
   "version": "2.7.6"
  }
 },
 "nbformat": 4,
 "nbformat_minor": 0
}