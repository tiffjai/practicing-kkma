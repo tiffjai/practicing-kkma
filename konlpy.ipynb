#trying to know the part of speech of a korean sentences.
import konlpy
from konlpy.tag import Kkma
from konlpy.utils import pprint
kkma = Kkma()
pprint(kkma.pos(u'일이 끝나고 퇴근하거든 우리 집에 잠간 들려주세요.'))
